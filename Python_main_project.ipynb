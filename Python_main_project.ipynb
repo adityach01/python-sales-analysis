{
 "cells": [
  {
   "cell_type": "markdown",
   "id": "68b774a1-8b70-4b25-8b35-df2676c403bd",
   "metadata": {
    "deletable": false,
    "editable": false,
    "nbgrader": {
     "cell_type": "markdown",
     "checksum": "bf1f9a7706eeaf3f4b44bf207a73143c",
     "grade": false,
     "grade_id": "cell-11ca53e2b112abba",
     "locked": true,
     "schema_version": 3,
     "solution": false,
     "task": false
    }
   },
   "source": [
    "<h1><center>Data Analysis Test</center></h1>\n",
    "\n",
    "## Overview\n",
    "This test comprises five questions designed to assess your proficiency in data manipulation and analysis using Python and Pandas. You will work with multiple datasets, including sales data, specialty mapping, and market definitions. Your task is to derive insights by merging, grouping, pivoting, and aggregating the data to answer each question accurately.\n",
    "\n",
    "## Instructions\n",
    "- **Libraries:** Ensure you have imported all necessary libraries (e.g., `pandas`).\n",
    "- **Variable Naming:** For each question, store your final output in the specified variable name (e.g., `answer1`, `answer2`, etc.).\n",
    "- **Testing:** After completing each question, verify your solution against the expected output in terms of formatting.\n",
    "- **Code Quality:** Write clean, readable, and well-commented code.\n",
    "- **Formatting:** Ensure that your final output DataFrames match the expected formats as described in each question.\n",
    "\n",
    "## Questions\n",
    "\n",
    "1. **Unique Physicians Writing Under Each Specialty**  \n",
    "\n",
    "2. **Unique Physicians Writing for Brand and Competitor**  \n",
    "\n",
    "3. **Market Share of Brand and Competitor**  \n",
    "\n",
    "4. **Months with Lowest and Highest Market Share**  \n",
    "\n",
    "5. **Specialty-wise Competitor and Brand Writing**  \n",
    "\n",
    "\n",
    "<b><center>Good luck with your test!<center></b>\n"
   ]
  },
  {
   "cell_type": "code",
   "execution_count": 10,
   "id": "07fb35dc-f371-4d6b-90d3-d57d56b89ce1",
   "metadata": {
    "deletable": false,
    "editable": false,
    "nbgrader": {
     "cell_type": "code",
     "checksum": "37ff4b432f3463c5dfc633c0feed403c",
     "grade": false,
     "grade_id": "cell-062fe19e6dc440f0",
     "locked": true,
     "schema_version": 3,
     "solution": false,
     "task": false
    }
   },
   "outputs": [],
   "source": [
    "import pandas as pd \n",
    "import numpy as np \n",
    "import seaborn as sns"
   ]
  },
  {
   "cell_type": "code",
   "execution_count": 11,
   "id": "1ed7a922-6b3b-4c57-8595-3d7eed887609",
   "metadata": {
    "deletable": false,
    "editable": false,
    "nbgrader": {
     "cell_type": "code",
     "checksum": "94c895decb9137d346d3199dd2e3944c",
     "grade": false,
     "grade_id": "cell-6a5b35da6bb6c3df",
     "locked": true,
     "schema_version": 3,
     "solution": false,
     "task": false
    }
   },
   "outputs": [],
   "source": [
    "sales = pd.read_excel('additional_files/Life_sciences_dataset.xlsx',sheet_name='Sales_Data')\n",
    "spc_map = pd.read_excel('additional_files/Life_sciences_dataset.xlsx',sheet_name='Specialty_Mapping')"
   ]
  },
  {
   "cell_type": "code",
   "execution_count": 12,
   "id": "5dbb14ee-d7a4-4375-b9dd-4909d98d4288",
   "metadata": {
    "deletable": false,
    "editable": false,
    "nbgrader": {
     "cell_type": "code",
     "checksum": "fe764a6948ac3b01f95fe4566b379d37",
     "grade": false,
     "grade_id": "cell-79a86c6d2296cc4d",
     "locked": true,
     "schema_version": 3,
     "solution": false,
     "task": false
    }
   },
   "outputs": [
    {
     "data": {
      "text/html": [
       "<div>\n",
       "<style scoped>\n",
       "    .dataframe tbody tr th:only-of-type {\n",
       "        vertical-align: middle;\n",
       "    }\n",
       "\n",
       "    .dataframe tbody tr th {\n",
       "        vertical-align: top;\n",
       "    }\n",
       "\n",
       "    .dataframe thead th {\n",
       "        text-align: right;\n",
       "    }\n",
       "</style>\n",
       "<table border=\"1\" class=\"dataframe\">\n",
       "  <thead>\n",
       "    <tr style=\"text-align: right;\">\n",
       "      <th></th>\n",
       "      <th>Prescriber_ID</th>\n",
       "      <th>Product_Code</th>\n",
       "      <th>Specialty_Code</th>\n",
       "      <th>Prescriber_State</th>\n",
       "      <th>Payer_Plan</th>\n",
       "      <th>TRx_Jan</th>\n",
       "      <th>TRx_Feb</th>\n",
       "      <th>TRx_Mar</th>\n",
       "      <th>TRx_Apr</th>\n",
       "      <th>TRx_May</th>\n",
       "      <th>TRx_Jun</th>\n",
       "      <th>TRx_Jul</th>\n",
       "      <th>TRx_Aug</th>\n",
       "      <th>TRx_Sep</th>\n",
       "      <th>TRx_Oct</th>\n",
       "      <th>TRx_Nov</th>\n",
       "      <th>TRx_Dec</th>\n",
       "    </tr>\n",
       "  </thead>\n",
       "  <tbody>\n",
       "    <tr>\n",
       "      <th>0</th>\n",
       "      <td>ID00001944</td>\n",
       "      <td>149</td>\n",
       "      <td>ZA</td>\n",
       "      <td>ID</td>\n",
       "      <td>Plan06142</td>\n",
       "      <td>5.50</td>\n",
       "      <td>2.33</td>\n",
       "      <td>3.84</td>\n",
       "      <td>0.98</td>\n",
       "      <td>3.49</td>\n",
       "      <td>4.19</td>\n",
       "      <td>5.60</td>\n",
       "      <td>5.77</td>\n",
       "      <td>5.36</td>\n",
       "      <td>3.95</td>\n",
       "      <td>1.04</td>\n",
       "      <td>3.99</td>\n",
       "    </tr>\n",
       "    <tr>\n",
       "      <th>1</th>\n",
       "      <td>ID00006235</td>\n",
       "      <td>713</td>\n",
       "      <td>PUC</td>\n",
       "      <td>KS</td>\n",
       "      <td>Plan08347</td>\n",
       "      <td>4.30</td>\n",
       "      <td>4.50</td>\n",
       "      <td>5.67</td>\n",
       "      <td>4.16</td>\n",
       "      <td>1.79</td>\n",
       "      <td>3.95</td>\n",
       "      <td>2.76</td>\n",
       "      <td>0.70</td>\n",
       "      <td>4.35</td>\n",
       "      <td>4.96</td>\n",
       "      <td>0.52</td>\n",
       "      <td>1.69</td>\n",
       "    </tr>\n",
       "    <tr>\n",
       "      <th>2</th>\n",
       "      <td>ID00002297</td>\n",
       "      <td>206</td>\n",
       "      <td>CZ</td>\n",
       "      <td>KY</td>\n",
       "      <td>Plan00506</td>\n",
       "      <td>3.76</td>\n",
       "      <td>2.11</td>\n",
       "      <td>4.48</td>\n",
       "      <td>0.62</td>\n",
       "      <td>4.80</td>\n",
       "      <td>1.03</td>\n",
       "      <td>1.22</td>\n",
       "      <td>2.99</td>\n",
       "      <td>0.02</td>\n",
       "      <td>2.93</td>\n",
       "      <td>1.57</td>\n",
       "      <td>2.09</td>\n",
       "    </tr>\n",
       "    <tr>\n",
       "      <th>3</th>\n",
       "      <td>ID00006749</td>\n",
       "      <td>738</td>\n",
       "      <td>WUR</td>\n",
       "      <td>CT</td>\n",
       "      <td>Plan04670</td>\n",
       "      <td>1.09</td>\n",
       "      <td>5.99</td>\n",
       "      <td>5.23</td>\n",
       "      <td>3.82</td>\n",
       "      <td>0.05</td>\n",
       "      <td>1.91</td>\n",
       "      <td>2.21</td>\n",
       "      <td>5.17</td>\n",
       "      <td>4.52</td>\n",
       "      <td>5.76</td>\n",
       "      <td>4.64</td>\n",
       "      <td>0.97</td>\n",
       "    </tr>\n",
       "    <tr>\n",
       "      <th>4</th>\n",
       "      <td>ID00006798</td>\n",
       "      <td>971</td>\n",
       "      <td>KLV</td>\n",
       "      <td>NC</td>\n",
       "      <td>Plan03501</td>\n",
       "      <td>1.79</td>\n",
       "      <td>3.48</td>\n",
       "      <td>0.69</td>\n",
       "      <td>1.13</td>\n",
       "      <td>5.71</td>\n",
       "      <td>4.36</td>\n",
       "      <td>0.59</td>\n",
       "      <td>3.70</td>\n",
       "      <td>4.45</td>\n",
       "      <td>5.62</td>\n",
       "      <td>2.06</td>\n",
       "      <td>5.37</td>\n",
       "    </tr>\n",
       "  </tbody>\n",
       "</table>\n",
       "</div>"
      ],
      "text/plain": [
       "  Prescriber_ID  Product_Code Specialty_Code Prescriber_State Payer_Plan   \n",
       "0    ID00001944           149             ZA               ID  Plan06142  \\\n",
       "1    ID00006235           713            PUC               KS  Plan08347   \n",
       "2    ID00002297           206             CZ               KY  Plan00506   \n",
       "3    ID00006749           738            WUR               CT  Plan04670   \n",
       "4    ID00006798           971            KLV               NC  Plan03501   \n",
       "\n",
       "   TRx_Jan  TRx_Feb  TRx_Mar  TRx_Apr  TRx_May  TRx_Jun  TRx_Jul  TRx_Aug   \n",
       "0     5.50     2.33     3.84     0.98     3.49     4.19     5.60     5.77  \\\n",
       "1     4.30     4.50     5.67     4.16     1.79     3.95     2.76     0.70   \n",
       "2     3.76     2.11     4.48     0.62     4.80     1.03     1.22     2.99   \n",
       "3     1.09     5.99     5.23     3.82     0.05     1.91     2.21     5.17   \n",
       "4     1.79     3.48     0.69     1.13     5.71     4.36     0.59     3.70   \n",
       "\n",
       "   TRx_Sep  TRx_Oct  TRx_Nov  TRx_Dec  \n",
       "0     5.36     3.95     1.04     3.99  \n",
       "1     4.35     4.96     0.52     1.69  \n",
       "2     0.02     2.93     1.57     2.09  \n",
       "3     4.52     5.76     4.64     0.97  \n",
       "4     4.45     5.62     2.06     5.37  "
      ]
     },
     "execution_count": 12,
     "metadata": {},
     "output_type": "execute_result"
    }
   ],
   "source": [
    "sales.head()"
   ]
  },
  {
   "cell_type": "code",
   "execution_count": 13,
   "id": "289c3549-7840-4f62-af66-1f50d17c7909",
   "metadata": {
    "deletable": false,
    "editable": false,
    "nbgrader": {
     "cell_type": "code",
     "checksum": "ce8be554c419ce8e361264b928b81a45",
     "grade": false,
     "grade_id": "cell-67f36d47c8a042e7",
     "locked": true,
     "schema_version": 3,
     "solution": false,
     "task": false
    }
   },
   "outputs": [
    {
     "data": {
      "text/html": [
       "<div>\n",
       "<style scoped>\n",
       "    .dataframe tbody tr th:only-of-type {\n",
       "        vertical-align: middle;\n",
       "    }\n",
       "\n",
       "    .dataframe tbody tr th {\n",
       "        vertical-align: top;\n",
       "    }\n",
       "\n",
       "    .dataframe thead th {\n",
       "        text-align: right;\n",
       "    }\n",
       "</style>\n",
       "<table border=\"1\" class=\"dataframe\">\n",
       "  <thead>\n",
       "    <tr style=\"text-align: right;\">\n",
       "      <th></th>\n",
       "      <th>Specialty_Code</th>\n",
       "      <th>Specialty</th>\n",
       "    </tr>\n",
       "  </thead>\n",
       "  <tbody>\n",
       "    <tr>\n",
       "      <th>0</th>\n",
       "      <td>AA</td>\n",
       "      <td>Nurse Practitioner</td>\n",
       "    </tr>\n",
       "    <tr>\n",
       "      <th>1</th>\n",
       "      <td>AAA</td>\n",
       "      <td>Primary Care</td>\n",
       "    </tr>\n",
       "    <tr>\n",
       "      <th>2</th>\n",
       "      <td>ABF</td>\n",
       "      <td>Immunology</td>\n",
       "    </tr>\n",
       "    <tr>\n",
       "      <th>3</th>\n",
       "      <td>ACF</td>\n",
       "      <td>Pediatrics</td>\n",
       "    </tr>\n",
       "    <tr>\n",
       "      <th>4</th>\n",
       "      <td>AE</td>\n",
       "      <td>Pediatrics</td>\n",
       "    </tr>\n",
       "  </tbody>\n",
       "</table>\n",
       "</div>"
      ],
      "text/plain": [
       "  Specialty_Code           Specialty\n",
       "0             AA  Nurse Practitioner\n",
       "1            AAA        Primary Care\n",
       "2            ABF          Immunology\n",
       "3            ACF          Pediatrics\n",
       "4             AE          Pediatrics"
      ]
     },
     "execution_count": 13,
     "metadata": {},
     "output_type": "execute_result"
    }
   ],
   "source": [
    "spc_map.head()"
   ]
  },
  {
   "cell_type": "markdown",
   "id": "0019dae8-732d-4f82-8bc9-10cbcec2165f",
   "metadata": {
    "deletable": false,
    "editable": false,
    "nbgrader": {
     "cell_type": "markdown",
     "checksum": "92eeff8d0d55db99dd13af76a397c596",
     "grade": false,
     "grade_id": "cell-8c8c5d228147b251",
     "locked": true,
     "schema_version": 3,
     "solution": false,
     "task": false
    }
   },
   "source": [
    "## Question 1: Unique Physicians Writing Under Each Specialty\n",
    "\n",
    "**Problem Statement:**  \n",
    "Find the number of Unique Physicians (prescribers) writing under each Specialty?\n",
    "- **Note that A physician can show multiple times under the same Specialty due to multiple specialty_codes (mapping to the same specialty)**\n",
    "- Example : For better clarity observe the records for `Prescriber ID : ID00001429` and trace the Specialty for their `Specialty codes`\n",
    "- Due to this nuance, observing a simple frequency count for each `Specialty` will give a slightly inflated values of Physician count\n",
    "- Return the output as a DataFrame that is sorted Ascending as per `Specialty`.\n",
    "---\n",
    "- **Here is the format of the expected final output (with dummy values)**\n",
    "\n",
    "| Specialty            | count |\n",
    "|----------------------|-------|\n",
    "| Endocrinology       | 12    |\n",
    "| Family Practice     | 18    |\n",
    "| Immunology         | 10    |\n",
    "| Nurse Practitioner | 15    |\n",
    "| Pediatrics         | 17    |\n",
    "| Primary Care       | 14    |"
   ]
  },
  {
   "cell_type": "markdown",
   "id": "4e6649f5-3810-4f33-acf1-2a86d8161f3c",
   "metadata": {
    "deletable": false,
    "editable": false,
    "nbgrader": {
     "cell_type": "markdown",
     "checksum": "e3fa315456295a1ce06ff8a6e9fd5adf",
     "grade": false,
     "grade_id": "cell-86f513ff0e50b9b8",
     "locked": true,
     "schema_version": 3,
     "solution": false,
     "task": false
    }
   },
   "source": [
    "### Please Write your answer here \n",
    "\n",
    "Delete the `raise NotImplementedError()` when you start writing your code."
   ]
  },
  {
   "cell_type": "code",
   "execution_count": 16,
   "id": "43551b49-b977-4fd9-9800-27f31915e0df",
   "metadata": {
    "deletable": false,
    "nbgrader": {
     "cell_type": "code",
     "checksum": "b1c89567d17249c22841e71fc0828697",
     "grade": false,
     "grade_id": "cell-dcbfb2ef77aa05b1",
     "locked": false,
     "schema_version": 3,
     "solution": true,
     "task": false
    }
   },
   "outputs": [
    {
     "data": {
      "text/html": [
       "<div>\n",
       "<style scoped>\n",
       "    .dataframe tbody tr th:only-of-type {\n",
       "        vertical-align: middle;\n",
       "    }\n",
       "\n",
       "    .dataframe tbody tr th {\n",
       "        vertical-align: top;\n",
       "    }\n",
       "\n",
       "    .dataframe thead th {\n",
       "        text-align: right;\n",
       "    }\n",
       "</style>\n",
       "<table border=\"1\" class=\"dataframe\">\n",
       "  <thead>\n",
       "    <tr style=\"text-align: right;\">\n",
       "      <th></th>\n",
       "      <th>Specialty</th>\n",
       "      <th>count</th>\n",
       "    </tr>\n",
       "  </thead>\n",
       "  <tbody>\n",
       "    <tr>\n",
       "      <th>0</th>\n",
       "      <td>Endocrinology</td>\n",
       "      <td>158</td>\n",
       "    </tr>\n",
       "    <tr>\n",
       "      <th>1</th>\n",
       "      <td>Family Practice</td>\n",
       "      <td>192</td>\n",
       "    </tr>\n",
       "    <tr>\n",
       "      <th>2</th>\n",
       "      <td>Immunology</td>\n",
       "      <td>161</td>\n",
       "    </tr>\n",
       "    <tr>\n",
       "      <th>3</th>\n",
       "      <td>Nurse Practitioner</td>\n",
       "      <td>166</td>\n",
       "    </tr>\n",
       "    <tr>\n",
       "      <th>4</th>\n",
       "      <td>Pediatrics</td>\n",
       "      <td>155</td>\n",
       "    </tr>\n",
       "  </tbody>\n",
       "</table>\n",
       "</div>"
      ],
      "text/plain": [
       "            Specialty  count\n",
       "0       Endocrinology    158\n",
       "1     Family Practice    192\n",
       "2          Immunology    161\n",
       "3  Nurse Practitioner    166\n",
       "4          Pediatrics    155"
      ]
     },
     "execution_count": 16,
     "metadata": {},
     "output_type": "execute_result"
    }
   ],
   "source": [
    "# YOUR CODE HERE\n",
    "\n",
    "\n",
    "sales = pd.read_excel('additional_files/Life_sciences_dataset.xlsx', sheet_name='Sales_Data')\n",
    "spc_map = pd.read_excel('additional_files/Life_sciences_dataset.xlsx', sheet_name='Specialty_Mapping')\n",
    "\n",
    "merged_df = pd.merge(sales, spc_map, on='Specialty_Code', how='left')\n",
    "merged_df = merged_df[['Prescriber_ID', 'Specialty']]\n",
    "merged_df = merged_df.drop_duplicates()\n",
    "\n",
    "answer1 = (\n",
    "    merged_df.groupby('Specialty')['Prescriber_ID']\n",
    "    .nunique()\n",
    "    .reset_index(name='count')\n",
    "    .sort_values('Specialty', ascending=True)\n",
    ")\n",
    "\n",
    "answer1.head()\n"
   ]
  },
  {
   "cell_type": "code",
   "execution_count": null,
   "id": "b602dc15-f934-40c3-9628-a2ef7270ce0b",
   "metadata": {},
   "outputs": [],
   "source": []
  },
  {
   "cell_type": "code",
   "execution_count": null,
   "id": "1be2d05e-0c05-441c-a682-d73a9bebab64",
   "metadata": {},
   "outputs": [],
   "source": []
  },
  {
   "cell_type": "code",
   "execution_count": null,
   "id": "064b7c31-9e5c-4264-96f4-dbef9f68e8fa",
   "metadata": {},
   "outputs": [],
   "source": []
  },
  {
   "cell_type": "code",
   "execution_count": null,
   "id": "0ab3a989-9409-407d-8c69-00d2d8833609",
   "metadata": {},
   "outputs": [],
   "source": []
  },
  {
   "cell_type": "code",
   "execution_count": null,
   "id": "6b19e7ad-1566-4387-a6ea-78754fcc6219",
   "metadata": {},
   "outputs": [],
   "source": []
  },
  {
   "cell_type": "code",
   "execution_count": null,
   "id": "074fb97a-6f91-4255-8cde-a8dded07d129",
   "metadata": {},
   "outputs": [],
   "source": []
  },
  {
   "cell_type": "markdown",
   "id": "7ac9f41e-0d77-4c43-b866-6e46344f3caa",
   "metadata": {
    "deletable": false,
    "editable": false,
    "nbgrader": {
     "cell_type": "markdown",
     "checksum": "a45479fdf74b5f4371697ef58d8be85d",
     "grade": false,
     "grade_id": "cell-70cd250d9e98a551",
     "locked": true,
     "schema_version": 3,
     "solution": false,
     "task": false
    }
   },
   "source": [
    "---\n",
    "### Make sure to write your answer for Q1 above this line\n",
    " -  Feel free to add as many code cells above this line as you wish    \n",
    " -  Make sure to save your answer in the variable named 'answer1'\n",
    " -  If the variable `answer1` is not found, you answer will be rejected by the system"
   ]
  },
  {
   "cell_type": "code",
   "execution_count": null,
   "id": "9ba98dcb-a97b-4721-97ea-aaa3ed158f20",
   "metadata": {
    "deletable": false,
    "editable": false,
    "nbgrader": {
     "cell_type": "code",
     "checksum": "5c5b4e752f80519ff8b6098f551bd036",
     "grade": true,
     "grade_id": "cell-a1ed2bcad30c1529",
     "locked": true,
     "points": 10,
     "schema_version": 3,
     "solution": false,
     "task": false
    }
   },
   "outputs": [],
   "source": []
  },
  {
   "cell_type": "markdown",
   "id": "306446ce-743f-4cee-8b81-d72a80769571",
   "metadata": {
    "deletable": false,
    "editable": false,
    "nbgrader": {
     "cell_type": "markdown",
     "checksum": "ac14ec8f33874307c6ac3ec155939d6c",
     "grade": false,
     "grade_id": "cell-1271cb2bcc346dce",
     "locked": true,
     "schema_version": 3,
     "solution": false,
     "task": false
    }
   },
   "source": [
    "----"
   ]
  },
  {
   "cell_type": "markdown",
   "id": "866ec69e-d424-40a3-bfd6-a5a7c5a2e8ba",
   "metadata": {
    "deletable": false,
    "editable": false,
    "nbgrader": {
     "cell_type": "markdown",
     "checksum": "fb845219af5b47f10c174d09cc27c356",
     "grade": false,
     "grade_id": "cell-dc907d660f3f7319",
     "locked": true,
     "schema_version": 3,
     "solution": false,
     "task": false
    }
   },
   "source": [
    "## Question 2: Unique Physicians Writing for Brand and Competitor\n",
    "\n",
    "**Problem Statement:**  \n",
    "Find the number of Unique Physicians (prescribers) writing for the competitors and for the Brand?\n",
    "- **Note that a Physician can have multiple records in the Sales dataset as he/she can prescribe more than one product overall** (e.g. consider a Physician prescribing product code 123 to Patient 1 and prescribing product code 456 to Patient 2)\n",
    "- Example : For better clarity observe the records for `Prescriber ID : ID00002889` and see that it is double counted as a Physician under Competitor\n",
    "- Due to this nuance, observing a simple frequency count for each `Comp_Brand_Flag` will give a slightly inflated values of Physician count\n",
    "- Return the output as a DataFrame that is sorted Ascending as per `Comp_Brand_Flag`.\n",
    "---\n",
    "- **Here is the format of the expected final output (with dummy values)**\n",
    "\n",
    "| Comp_Brand_Flag | count |\n",
    "|-----------------|-------|\n",
    "| Brand          | 10    |\n",
    "| Competitor    | 18    |"
   ]
  },
  {
   "cell_type": "code",
   "execution_count": null,
   "id": "662a5f0e-3273-405c-9ee3-ed1fb80d9896",
   "metadata": {
    "deletable": false,
    "editable": false,
    "nbgrader": {
     "cell_type": "code",
     "checksum": "cc523bcdeb30b5dd7d729a2539914977",
     "grade": false,
     "grade_id": "cell-8555a03fc01e3bd0",
     "locked": true,
     "schema_version": 3,
     "solution": false,
     "task": false
    }
   },
   "outputs": [],
   "source": [
    "mkt_def = pd.read_excel('additional_files/Life_sciences_dataset.xlsx',sheet_name='Market_Definition')\n",
    "mkt_def.head()"
   ]
  },
  {
   "cell_type": "markdown",
   "id": "2f237bb5-42f9-4023-bd9f-ad77ca0b01d7",
   "metadata": {
    "deletable": false,
    "editable": false,
    "nbgrader": {
     "cell_type": "markdown",
     "checksum": "79582a7ab915cfa79563f30e94d8f871",
     "grade": false,
     "grade_id": "cell-026e2a1c4cb4cc42",
     "locked": true,
     "schema_version": 3,
     "solution": false,
     "task": false
    }
   },
   "source": [
    "### Please Write your answer here \n",
    "\n",
    "Delete the `raise NotImplementedError()` when you start writing your code."
   ]
  },
  {
   "cell_type": "code",
   "execution_count": 17,
   "id": "7928a6fb-7cf1-4be1-befe-19912e2a5855",
   "metadata": {
    "deletable": false,
    "nbgrader": {
     "cell_type": "code",
     "checksum": "1212baf3bfa8c8576580b538cdec5b88",
     "grade": false,
     "grade_id": "cell-2c91165ac4b1dd29",
     "locked": false,
     "schema_version": 3,
     "solution": true,
     "task": false
    }
   },
   "outputs": [
    {
     "data": {
      "text/html": [
       "<div>\n",
       "<style scoped>\n",
       "    .dataframe tbody tr th:only-of-type {\n",
       "        vertical-align: middle;\n",
       "    }\n",
       "\n",
       "    .dataframe tbody tr th {\n",
       "        vertical-align: top;\n",
       "    }\n",
       "\n",
       "    .dataframe thead th {\n",
       "        text-align: right;\n",
       "    }\n",
       "</style>\n",
       "<table border=\"1\" class=\"dataframe\">\n",
       "  <thead>\n",
       "    <tr style=\"text-align: right;\">\n",
       "      <th></th>\n",
       "      <th>Comp_Brand_Flag</th>\n",
       "      <th>count</th>\n",
       "    </tr>\n",
       "  </thead>\n",
       "  <tbody>\n",
       "    <tr>\n",
       "      <th>0</th>\n",
       "      <td>Brand</td>\n",
       "      <td>212</td>\n",
       "    </tr>\n",
       "    <tr>\n",
       "      <th>1</th>\n",
       "      <td>Competitor</td>\n",
       "      <td>758</td>\n",
       "    </tr>\n",
       "  </tbody>\n",
       "</table>\n",
       "</div>"
      ],
      "text/plain": [
       "  Comp_Brand_Flag  count\n",
       "0           Brand    212\n",
       "1      Competitor    758"
      ]
     },
     "execution_count": 17,
     "metadata": {},
     "output_type": "execute_result"
    }
   ],
   "source": [
    "mkt_def = pd.read_excel('additional_files/Life_sciences_dataset.xlsx', sheet_name='Market_Definition')\n",
    "\n",
    "merged_mkt = pd.merge(sales, mkt_def, on='Product_Code', how='left')\n",
    "merged_mkt = merged_mkt[['Prescriber_ID', 'Comp_Brand_Flag']]\n",
    "\n",
    "merged_mkt = merged_mkt.drop_duplicates()\n",
    "answer2 = (\n",
    "    merged_mkt.groupby('Comp_Brand_Flag')['Prescriber_ID']\n",
    "    .nunique()\n",
    "    .reset_index(name='count')\n",
    "    .sort_values('Comp_Brand_Flag', ascending=True)\n",
    ")\n",
    "\n",
    "answer2.head()\n"
   ]
  },
  {
   "cell_type": "code",
   "execution_count": null,
   "id": "a3bfaa91-4db5-405d-9a5f-7e0b606ae58f",
   "metadata": {},
   "outputs": [],
   "source": []
  },
  {
   "cell_type": "code",
   "execution_count": null,
   "id": "82c48a69-b5d1-48ce-af6a-648128d72734",
   "metadata": {},
   "outputs": [],
   "source": []
  },
  {
   "cell_type": "code",
   "execution_count": null,
   "id": "35562c31-78f2-4566-95a0-98da936702b0",
   "metadata": {},
   "outputs": [],
   "source": []
  },
  {
   "cell_type": "code",
   "execution_count": null,
   "id": "36b779b6-d365-45b9-ba32-1493421a1aaa",
   "metadata": {},
   "outputs": [],
   "source": []
  },
  {
   "cell_type": "code",
   "execution_count": null,
   "id": "588ef4c2-35a4-47fc-b9cb-331c0b63f2f2",
   "metadata": {},
   "outputs": [],
   "source": []
  },
  {
   "cell_type": "code",
   "execution_count": null,
   "id": "0df61844-b961-4822-b898-2d2849e368a1",
   "metadata": {},
   "outputs": [],
   "source": []
  },
  {
   "cell_type": "markdown",
   "id": "404e6b01-e85c-4e87-bb0f-c1e4728bc65c",
   "metadata": {
    "deletable": false,
    "editable": false,
    "nbgrader": {
     "cell_type": "markdown",
     "checksum": "ed549718be1a8d69483a91d1df7517c0",
     "grade": false,
     "grade_id": "cell-46ece965e07ad2fa",
     "locked": true,
     "schema_version": 3,
     "solution": false,
     "task": false
    }
   },
   "source": [
    "---\n",
    "### Make sure to write your answer for Q2 above this line\n",
    " -  Feel free to add as many code cells above this line as you wish    \n",
    " -  Make sure to save your answer in the variable named 'answer2'\n",
    " -  If the variable `answer2` is not found, you answer will be rejected by the system"
   ]
  },
  {
   "cell_type": "code",
   "execution_count": null,
   "id": "8791d0e8-0148-4009-9de4-0a8c4907063e",
   "metadata": {
    "deletable": false,
    "editable": false,
    "nbgrader": {
     "cell_type": "code",
     "checksum": "faa0a7f247f023e0b33888bcc92bbf30",
     "grade": true,
     "grade_id": "cell-9001feb7fba9f900",
     "locked": true,
     "points": 10,
     "schema_version": 3,
     "solution": false,
     "task": false
    }
   },
   "outputs": [],
   "source": []
  },
  {
   "cell_type": "markdown",
   "id": "341c5122-1d28-4a7d-94c2-29835beba2fb",
   "metadata": {
    "deletable": false,
    "editable": false,
    "nbgrader": {
     "cell_type": "markdown",
     "checksum": "f697917e9f60602cf6d59a8b8d437a0d",
     "grade": false,
     "grade_id": "cell-e637d37b6a8d7028",
     "locked": true,
     "schema_version": 3,
     "solution": false,
     "task": false
    }
   },
   "source": [
    "----"
   ]
  },
  {
   "cell_type": "markdown",
   "id": "bfa7c3b7-3ce3-4fae-978c-476589aa1f89",
   "metadata": {
    "deletable": false,
    "editable": false,
    "nbgrader": {
     "cell_type": "markdown",
     "checksum": "02f3a41383e678d7b35b3f1ac0e19236",
     "grade": false,
     "grade_id": "cell-c542fbd27bed2194",
     "locked": true,
     "schema_version": 3,
     "solution": false,
     "task": false
    }
   },
   "source": [
    "## Question 3: Market Share of Brand and Competitor\n",
    "\n",
    "**Problem Statement:**  \n",
    "- Find the market share of the brand and the competitior for the entire Year\n",
    "- Note that Market is composed on both `Brand` and `Competition`, and market share of the brand is a ratio of brand sales to total market sales\n",
    "- Use total sales of Jan-Dec period to arrive at the market share percent\n",
    "- Return the output as a DataFrame.\n",
    "---\n",
    "- **Here is the format of the expected final output (with dummy values)**\n",
    "\n",
    "| Comp_Brand_Flag | Tot_sales | Mkt_Share |\n",
    "|-----------------|-----------|-----------|\n",
    "| Brand          | 450   | 0.45  |\n",
    "| Competitor    | 550  | 0.55  |\n"
   ]
  },
  {
   "cell_type": "markdown",
   "id": "236fa301-9ee2-45bb-b355-adb27ecc29a5",
   "metadata": {
    "deletable": false,
    "editable": false,
    "nbgrader": {
     "cell_type": "markdown",
     "checksum": "8a80783cd61546924391a1d1af338ff8",
     "grade": false,
     "grade_id": "cell-ba09a06e5d9e36ba",
     "locked": true,
     "schema_version": 3,
     "solution": false,
     "task": false
    }
   },
   "source": [
    "### Please Write your answer here \n",
    "\n",
    "Delete the `raise NotImplementedError()` when you start writing your code."
   ]
  },
  {
   "cell_type": "code",
   "execution_count": 21,
   "id": "1ffd36bc-6e78-417e-b409-063de8535986",
   "metadata": {
    "deletable": false,
    "nbgrader": {
     "cell_type": "code",
     "checksum": "846add53a61823937d2fb5a7d78a13d1",
     "grade": false,
     "grade_id": "cell-dce9ab837bfd1472",
     "locked": false,
     "schema_version": 3,
     "solution": true,
     "task": false
    }
   },
   "outputs": [
    {
     "data": {
      "text/html": [
       "<div>\n",
       "<style scoped>\n",
       "    .dataframe tbody tr th:only-of-type {\n",
       "        vertical-align: middle;\n",
       "    }\n",
       "\n",
       "    .dataframe tbody tr th {\n",
       "        vertical-align: top;\n",
       "    }\n",
       "\n",
       "    .dataframe thead th {\n",
       "        text-align: right;\n",
       "    }\n",
       "</style>\n",
       "<table border=\"1\" class=\"dataframe\">\n",
       "  <thead>\n",
       "    <tr style=\"text-align: right;\">\n",
       "      <th></th>\n",
       "      <th>Comp_Brand_Flag</th>\n",
       "      <th>Tot_sales</th>\n",
       "      <th>Mkt_Share</th>\n",
       "    </tr>\n",
       "  </thead>\n",
       "  <tbody>\n",
       "    <tr>\n",
       "      <th>0</th>\n",
       "      <td>Brand</td>\n",
       "      <td>7636.07</td>\n",
       "      <td>0.212824</td>\n",
       "    </tr>\n",
       "    <tr>\n",
       "      <th>1</th>\n",
       "      <td>Competitor</td>\n",
       "      <td>28243.74</td>\n",
       "      <td>0.787176</td>\n",
       "    </tr>\n",
       "  </tbody>\n",
       "</table>\n",
       "</div>"
      ],
      "text/plain": [
       "  Comp_Brand_Flag  Tot_sales  Mkt_Share\n",
       "0           Brand    7636.07   0.212824\n",
       "1      Competitor   28243.74   0.787176"
      ]
     },
     "execution_count": 21,
     "metadata": {},
     "output_type": "execute_result"
    }
   ],
   "source": [
    "\n",
    "merged_sales = pd.merge(sales, mkt_def, on='Product_Code', how='left')\n",
    "\n",
    "months = [col for col in merged_sales.columns if 'TRx' in col]\n",
    "\n",
    "merged_sales['Tot_sales'] = merged_sales[months].sum(axis=1)\n",
    "\n",
    "totals = merged_sales.groupby('Comp_Brand_Flag')['Tot_sales'].sum().reset_index()\n",
    "\n",
    "total_market = totals['Tot_sales'].sum()\n",
    "totals['Mkt_Share'] = totals['Tot_sales'] / total_market\n",
    "\n",
    "answer3 = totals\n",
    "answer3\n"
   ]
  },
  {
   "cell_type": "code",
   "execution_count": null,
   "id": "f94b2968-66c7-45e5-9b32-2f115f1d3db8",
   "metadata": {},
   "outputs": [],
   "source": []
  },
  {
   "cell_type": "code",
   "execution_count": null,
   "id": "65f9f543-389f-4822-8be1-1936479668fd",
   "metadata": {},
   "outputs": [],
   "source": []
  },
  {
   "cell_type": "code",
   "execution_count": null,
   "id": "070ec0e6-3cd0-46b7-a697-3d3d1c987093",
   "metadata": {},
   "outputs": [],
   "source": []
  },
  {
   "cell_type": "code",
   "execution_count": null,
   "id": "bff10659-a39a-431b-981e-e9175341a52c",
   "metadata": {},
   "outputs": [],
   "source": []
  },
  {
   "cell_type": "code",
   "execution_count": null,
   "id": "0114ecfe-263a-4515-83e5-12883f684537",
   "metadata": {},
   "outputs": [],
   "source": []
  },
  {
   "cell_type": "code",
   "execution_count": null,
   "id": "26343041-dc7e-4b47-8480-e1a2b03202fb",
   "metadata": {},
   "outputs": [],
   "source": []
  },
  {
   "cell_type": "markdown",
   "id": "e3293c8a-0459-4473-bded-f3e4b77d0c8c",
   "metadata": {
    "deletable": false,
    "editable": false,
    "nbgrader": {
     "cell_type": "markdown",
     "checksum": "bb3f0d922fb01da5c070f7d7cad4326e",
     "grade": false,
     "grade_id": "cell-b1cbce3113e0eaf3",
     "locked": true,
     "schema_version": 3,
     "solution": false,
     "task": false
    }
   },
   "source": [
    "---\n",
    "### Make sure to write your answer for Q3 above this line\n",
    " -  Feel free to add as many code cells above this line as you wish    \n",
    " -  Make sure to save your answer in the variable named 'answer3'\n",
    " -  If the variable `answer3` is not found, you answer will be rejected by the system"
   ]
  },
  {
   "cell_type": "code",
   "execution_count": null,
   "id": "a5a236ed-af92-4945-827b-04435b4920a0",
   "metadata": {
    "deletable": false,
    "editable": false,
    "nbgrader": {
     "cell_type": "code",
     "checksum": "b41297674f35dbf8815fadcbccd8e753",
     "grade": true,
     "grade_id": "cell-6f3de2f9bfe9b449",
     "locked": true,
     "points": 10,
     "schema_version": 3,
     "solution": false,
     "task": false
    }
   },
   "outputs": [],
   "source": []
  },
  {
   "cell_type": "markdown",
   "id": "1e740040-d39d-4b4c-bbbc-de1febc9df55",
   "metadata": {
    "deletable": false,
    "editable": false,
    "nbgrader": {
     "cell_type": "markdown",
     "checksum": "af0340c37e636559769be1c6e93cd5c4",
     "grade": false,
     "grade_id": "cell-52b87448460b94f5",
     "locked": true,
     "schema_version": 3,
     "solution": false,
     "task": false
    }
   },
   "source": [
    "---"
   ]
  },
  {
   "cell_type": "markdown",
   "id": "85af3134-3d03-499b-8369-6effb4aa3b99",
   "metadata": {
    "deletable": false,
    "editable": false,
    "nbgrader": {
     "cell_type": "markdown",
     "checksum": "71a59a1399f3e37a91f7e505901f4a53",
     "grade": false,
     "grade_id": "cell-3187b4ae78581fd7",
     "locked": true,
     "schema_version": 3,
     "solution": false,
     "task": false
    }
   },
   "source": [
    "## Question 4: Months with Lowest and Highest Market Share\n",
    "\n",
    "**Problem Statement:**  \n",
    "- Find the months in which the Market share for the brand was Lowest and Highest\n",
    "- Note that Market is composed on both `Brand` and `Competition`, and market share of the brand is a ratio of brand sales to total market sales\n",
    "- Return the output as a DataFrame\n",
    "---\n",
    "- **Here is the format of the expected final output (with dummy values)**\n",
    "\n",
    "|        | Month | Mkt_Share |\n",
    "|--------|-------|-----------|\n",
    "| Min_share | Nov   | 0.1111  |\n",
    "| Max_share | Mar   | 0.9999  |"
   ]
  },
  {
   "cell_type": "markdown",
   "id": "a42a2c09-561b-4d99-a903-488a9c04a022",
   "metadata": {
    "deletable": false,
    "editable": false,
    "nbgrader": {
     "cell_type": "markdown",
     "checksum": "f7886684f03a20e47cda4b9c35aa8126",
     "grade": false,
     "grade_id": "cell-182a0715680107f7",
     "locked": true,
     "schema_version": 3,
     "solution": false,
     "task": false
    }
   },
   "source": [
    "### Please Write your answer here \n",
    "\n",
    "Delete the `raise NotImplementedError()` when you start writing your code."
   ]
  },
  {
   "cell_type": "code",
   "execution_count": 23,
   "id": "67822c2d-d4f1-4b1e-8038-aab8d3917a7f",
   "metadata": {
    "deletable": false,
    "nbgrader": {
     "cell_type": "code",
     "checksum": "04ba2ec7ec40e124a907b48c1dd41391",
     "grade": false,
     "grade_id": "cell-98c11e42ed712f31",
     "locked": false,
     "schema_version": 3,
     "solution": true,
     "task": false
    }
   },
   "outputs": [
    {
     "data": {
      "text/html": [
       "<div>\n",
       "<style scoped>\n",
       "    .dataframe tbody tr th:only-of-type {\n",
       "        vertical-align: middle;\n",
       "    }\n",
       "\n",
       "    .dataframe tbody tr th {\n",
       "        vertical-align: top;\n",
       "    }\n",
       "\n",
       "    .dataframe thead th {\n",
       "        text-align: right;\n",
       "    }\n",
       "</style>\n",
       "<table border=\"1\" class=\"dataframe\">\n",
       "  <thead>\n",
       "    <tr style=\"text-align: right;\">\n",
       "      <th></th>\n",
       "      <th>Month</th>\n",
       "      <th>Mkt_Share</th>\n",
       "    </tr>\n",
       "  </thead>\n",
       "  <tbody>\n",
       "    <tr>\n",
       "      <th>0</th>\n",
       "      <td>Min_share</td>\n",
       "      <td>0.200810</td>\n",
       "    </tr>\n",
       "    <tr>\n",
       "      <th>1</th>\n",
       "      <td>Max_share</td>\n",
       "      <td>0.229639</td>\n",
       "    </tr>\n",
       "  </tbody>\n",
       "</table>\n",
       "</div>"
      ],
      "text/plain": [
       "       Month  Mkt_Share\n",
       "0  Min_share   0.200810\n",
       "1  Max_share   0.229639"
      ]
     },
     "execution_count": 23,
     "metadata": {},
     "output_type": "execute_result"
    }
   ],
   "source": [
    "\n",
    "months = [col for col in merged_sales.columns if 'TRx' in col]\n",
    "\n",
    "brand_sales = merged_sales[merged_sales['Comp_Brand_Flag']=='Brand']\n",
    "total_sales = merged_sales.copy()\n",
    "\n",
    "monthly_share = {}\n",
    "for month in months:\n",
    "    brand_total = brand_sales[month].sum()\n",
    "    market_total = total_sales[month].sum()\n",
    "    monthly_share[month] = brand_total / market_total\n",
    "\n",
    "monthly_df = pd.DataFrame(list(monthly_share.items()), columns=['Month','Mkt_Share'])\n",
    "\n",
    "min_row = monthly_df.loc[monthly_df['Mkt_Share'].idxmin()]\n",
    "max_row = monthly_df.loc[monthly_df['Mkt_Share'].idxmax()]\n",
    "answer4 = pd.DataFrame({\n",
    "    'Month': ['Min_share','Max_share'],\n",
    "    'Mkt_Share': [min_row['Mkt_Share'], max_row['Mkt_Share']]\n",
    "})\n",
    "answer4\n"
   ]
  },
  {
   "cell_type": "code",
   "execution_count": null,
   "id": "d036072a-f002-4e43-acdf-01507224dc3b",
   "metadata": {},
   "outputs": [],
   "source": []
  },
  {
   "cell_type": "code",
   "execution_count": null,
   "id": "bccc64b2-aed7-4b9c-ad00-9015897e3d62",
   "metadata": {},
   "outputs": [],
   "source": []
  },
  {
   "cell_type": "code",
   "execution_count": null,
   "id": "71e62941-dba6-4ebe-81a9-7cbedba1f317",
   "metadata": {},
   "outputs": [],
   "source": []
  },
  {
   "cell_type": "code",
   "execution_count": null,
   "id": "9239edd9-53db-4ed6-9624-4721fb16a54c",
   "metadata": {},
   "outputs": [],
   "source": []
  },
  {
   "cell_type": "code",
   "execution_count": null,
   "id": "c71f7c42-1080-41e4-86ec-8e9e5a9f9986",
   "metadata": {},
   "outputs": [],
   "source": []
  },
  {
   "cell_type": "code",
   "execution_count": null,
   "id": "b8611c70-9650-4c3f-9b03-055fe3c3b871",
   "metadata": {},
   "outputs": [],
   "source": []
  },
  {
   "cell_type": "markdown",
   "id": "05e9c74a-2ce8-4185-b6d2-fb9632fbdab6",
   "metadata": {
    "deletable": false,
    "editable": false,
    "nbgrader": {
     "cell_type": "markdown",
     "checksum": "ccfb99852a6518861f23d5805a5787b4",
     "grade": false,
     "grade_id": "cell-58d2f92c0e86fa82",
     "locked": true,
     "schema_version": 3,
     "solution": false,
     "task": false
    }
   },
   "source": [
    "---\n",
    "### Make sure to write your answer for Q4 above this line\n",
    " - #### Make sure to save your answer in the variable named 'answer4'\n",
    " - #### If the variable `answer4` is not found, you answer will be rejected by the system"
   ]
  },
  {
   "cell_type": "code",
   "execution_count": null,
   "id": "1ae81b3c-9f92-496e-8f2d-8e246fa3767c",
   "metadata": {
    "deletable": false,
    "editable": false,
    "nbgrader": {
     "cell_type": "code",
     "checksum": "57d212254ce422e07d96bfea4be0f420",
     "grade": true,
     "grade_id": "cell-e3bf9ed2d1f76545",
     "locked": true,
     "points": 10,
     "schema_version": 3,
     "solution": false,
     "task": false
    }
   },
   "outputs": [],
   "source": []
  },
  {
   "cell_type": "markdown",
   "id": "8f377abe-8f8a-4e94-a1d3-618ef540d688",
   "metadata": {
    "deletable": false,
    "editable": false,
    "nbgrader": {
     "cell_type": "markdown",
     "checksum": "eb8570edd994fec6785f91346165917b",
     "grade": false,
     "grade_id": "cell-a5c23ac17162a8d0",
     "locked": true,
     "schema_version": 3,
     "solution": false,
     "task": false
    }
   },
   "source": [
    "----"
   ]
  },
  {
   "cell_type": "markdown",
   "id": "cca4e2a4-ba78-4b4e-8bca-3c579eaebf62",
   "metadata": {
    "deletable": false,
    "editable": false,
    "nbgrader": {
     "cell_type": "markdown",
     "checksum": "86752ccc0a71ede99fc374d86b060cad",
     "grade": false,
     "grade_id": "cell-25fcc30959672009",
     "locked": true,
     "schema_version": 3,
     "solution": false,
     "task": false
    }
   },
   "source": [
    "## Question 5: Specialty-wise Competitor and Brand Writing\n",
    "\n",
    "**Problem Statement:**  \n",
    "- For different Specialties, show the information of Physicians and their writing for Brand and Competition\n",
    "- Essentially show for both Brand and Competition, the unique number of Physicians who are Prescribing and their total writing (Trx)\n",
    "- Return the output as a DataFrame\n",
    "---\n",
    "- **Here is the format of the expected final output (with dummy values). Note : `Specialty` is the Index component**\n",
    "\n",
    "| Comp_Brand_Flag     | Brand              |                  | Competitor          |                  |\n",
    "|---------------------|--------------------|------------------|----------------------|------------------|\n",
    "| | Prescriber_ID      | Tot_Sales        | Prescriber_ID        | Tot_Sales        |\n",
    "| Specialty          |  |         |        |        |\n",
    "|---------------------|--------------------|------------------|----------------------|------------------|\n",
    "| Endocrinology      | 12                 | 1050.75          | 18                   | 3950.40          |\n",
    "| Family Practice    | 15                 | 1345.60          | 20                   | 4205.90          |\n",
    "| Immunology        | 10                 | 980.30           | 17                   | 3678.25          |\n",
    "| Nurse Practitioner| 14                 | 1125.45          | 19                   | 3899.80          |\n",
    "| Pediatrics        | 11                 | 870.90           | 16                   | 3410.60          |\n",
    "| Primary Care      | 13                 | 1235.20          | 15                   | 3600.75          |\n"
   ]
  },
  {
   "cell_type": "markdown",
   "id": "29b8c6e9-5fe4-400e-9523-031717bcf5f7",
   "metadata": {
    "deletable": false,
    "editable": false,
    "nbgrader": {
     "cell_type": "markdown",
     "checksum": "162c17dac46ca7c1d79fb41eb3abfe61",
     "grade": false,
     "grade_id": "cell-55a3a629f26092d7",
     "locked": true,
     "schema_version": 3,
     "solution": false,
     "task": false
    }
   },
   "source": [
    "### Please Write your answer here \n",
    "\n",
    "Delete the `raise NotImplementedError()` when you start writing your code."
   ]
  },
  {
   "cell_type": "code",
   "execution_count": 24,
   "id": "b40be262-d9d8-4714-bd83-a7eb52532b0e",
   "metadata": {
    "deletable": false,
    "nbgrader": {
     "cell_type": "code",
     "checksum": "8592262094de2c223160a43ce756e0a2",
     "grade": false,
     "grade_id": "cell-e702f481df40fe62",
     "locked": false,
     "schema_version": 3,
     "solution": true,
     "task": false
    }
   },
   "outputs": [
    {
     "data": {
      "text/html": [
       "<div>\n",
       "<style scoped>\n",
       "    .dataframe tbody tr th:only-of-type {\n",
       "        vertical-align: middle;\n",
       "    }\n",
       "\n",
       "    .dataframe tbody tr th {\n",
       "        vertical-align: top;\n",
       "    }\n",
       "\n",
       "    .dataframe thead th {\n",
       "        text-align: right;\n",
       "    }\n",
       "</style>\n",
       "<table border=\"1\" class=\"dataframe\">\n",
       "  <thead>\n",
       "    <tr style=\"text-align: right;\">\n",
       "      <th></th>\n",
       "      <th>Prescriber_ID_Brand</th>\n",
       "      <th>Prescriber_ID_Competitor</th>\n",
       "      <th>Tot_Sales_Brand</th>\n",
       "      <th>Tot_Sales_Competitor</th>\n",
       "    </tr>\n",
       "    <tr>\n",
       "      <th>Specialty</th>\n",
       "      <th></th>\n",
       "      <th></th>\n",
       "      <th></th>\n",
       "      <th></th>\n",
       "    </tr>\n",
       "  </thead>\n",
       "  <tbody>\n",
       "    <tr>\n",
       "      <th>Endocrinology</th>\n",
       "      <td>34.0</td>\n",
       "      <td>125.0</td>\n",
       "      <td>1216.54</td>\n",
       "      <td>4564.30</td>\n",
       "    </tr>\n",
       "    <tr>\n",
       "      <th>Family Practice</th>\n",
       "      <td>44.0</td>\n",
       "      <td>149.0</td>\n",
       "      <td>1584.18</td>\n",
       "      <td>5480.45</td>\n",
       "    </tr>\n",
       "    <tr>\n",
       "      <th>Immunology</th>\n",
       "      <td>33.0</td>\n",
       "      <td>128.0</td>\n",
       "      <td>1194.45</td>\n",
       "      <td>4677.14</td>\n",
       "    </tr>\n",
       "    <tr>\n",
       "      <th>Nurse Practitioner</th>\n",
       "      <td>37.0</td>\n",
       "      <td>129.0</td>\n",
       "      <td>1296.44</td>\n",
       "      <td>4574.81</td>\n",
       "    </tr>\n",
       "    <tr>\n",
       "      <th>Pediatrics</th>\n",
       "      <td>27.0</td>\n",
       "      <td>128.0</td>\n",
       "      <td>986.81</td>\n",
       "      <td>4566.35</td>\n",
       "    </tr>\n",
       "    <tr>\n",
       "      <th>Primary Care</th>\n",
       "      <td>38.0</td>\n",
       "      <td>120.0</td>\n",
       "      <td>1357.65</td>\n",
       "      <td>4380.69</td>\n",
       "    </tr>\n",
       "  </tbody>\n",
       "</table>\n",
       "</div>"
      ],
      "text/plain": [
       "                    Prescriber_ID_Brand  Prescriber_ID_Competitor   \n",
       "Specialty                                                           \n",
       "Endocrinology                      34.0                     125.0  \\\n",
       "Family Practice                    44.0                     149.0   \n",
       "Immunology                         33.0                     128.0   \n",
       "Nurse Practitioner                 37.0                     129.0   \n",
       "Pediatrics                         27.0                     128.0   \n",
       "Primary Care                       38.0                     120.0   \n",
       "\n",
       "                    Tot_Sales_Brand  Tot_Sales_Competitor  \n",
       "Specialty                                                  \n",
       "Endocrinology               1216.54               4564.30  \n",
       "Family Practice             1584.18               5480.45  \n",
       "Immunology                  1194.45               4677.14  \n",
       "Nurse Practitioner          1296.44               4574.81  \n",
       "Pediatrics                   986.81               4566.35  \n",
       "Primary Care                1357.65               4380.69  "
      ]
     },
     "execution_count": 24,
     "metadata": {},
     "output_type": "execute_result"
    }
   ],
   "source": [
    "merged_df = pd.merge(sales, spc_map, on='Specialty_Code', how='left')\n",
    "merged_df = pd.merge(merged_df, mkt_def, on='Product_Code', how='left')\n",
    "months = [col for col in merged_df.columns if 'TRx' in col]\n",
    "\n",
    "merged_df['Tot_Sales'] = merged_df[months].sum(axis=1)\n",
    "\n",
    "grouped = merged_df.groupby(['Specialty','Comp_Brand_Flag']).agg(\n",
    "    Prescriber_ID=('Prescriber_ID','nunique'),\n",
    "    Tot_Sales=('Tot_Sales','sum')\n",
    ").reset_index()\n",
    "\n",
    "answer5 = grouped.pivot(index='Specialty', columns='Comp_Brand_Flag', values=['Prescriber_ID','Tot_Sales'])\n",
    "\n",
    "answer5.columns = ['_'.join(col).strip() for col in answer5.columns.values]\n",
    "\n",
    "answer5\n"
   ]
  },
  {
   "cell_type": "code",
   "execution_count": null,
   "id": "38b69778-cce0-4ba2-81a2-ea21da46f60b",
   "metadata": {},
   "outputs": [],
   "source": []
  },
  {
   "cell_type": "code",
   "execution_count": null,
   "id": "dc9e8a53-b0ba-4741-8fb6-efa42bf25261",
   "metadata": {},
   "outputs": [],
   "source": []
  },
  {
   "cell_type": "code",
   "execution_count": null,
   "id": "b720bb85-c1d2-4c3a-bf2b-b208f480c608",
   "metadata": {},
   "outputs": [],
   "source": []
  },
  {
   "cell_type": "code",
   "execution_count": null,
   "id": "e86b544e-a38a-43ad-b654-41a4eea7ace6",
   "metadata": {},
   "outputs": [],
   "source": []
  },
  {
   "cell_type": "code",
   "execution_count": null,
   "id": "721a3066-5fb8-48dd-9cf5-55bdaf7f5dde",
   "metadata": {},
   "outputs": [],
   "source": []
  },
  {
   "cell_type": "code",
   "execution_count": null,
   "id": "399fb207-a13f-4437-a7af-86d83aded65d",
   "metadata": {},
   "outputs": [],
   "source": []
  },
  {
   "cell_type": "markdown",
   "id": "4477de69-5f16-4a8d-8b60-aae4d6c3f71e",
   "metadata": {
    "deletable": false,
    "editable": false,
    "nbgrader": {
     "cell_type": "markdown",
     "checksum": "255272dacb0c11848a2ad3281bf26cc6",
     "grade": false,
     "grade_id": "cell-7a82d0841a537bda",
     "locked": true,
     "schema_version": 3,
     "solution": false,
     "task": false
    }
   },
   "source": [
    "---\n",
    "### Make sure to write your answer for Q5 above this line\n",
    " - #### Make sure to save your answer in the variable named 'answer5'\n",
    " - #### If the variable `answer5` is not found, you answer will be rejected by the system"
   ]
  },
  {
   "cell_type": "code",
   "execution_count": null,
   "id": "db77ef5e-3968-4da3-9d62-5731e1a4f963",
   "metadata": {
    "deletable": false,
    "editable": false,
    "nbgrader": {
     "cell_type": "code",
     "checksum": "3c7113ce6e9dc37083357f1390a962c9",
     "grade": true,
     "grade_id": "cell-8eeae6caf061d2d7",
     "locked": true,
     "points": 10,
     "schema_version": 3,
     "solution": false,
     "task": false
    }
   },
   "outputs": [],
   "source": []
  },
  {
   "cell_type": "markdown",
   "id": "fc9e6e02-6fbe-4ef6-9211-007462f0112a",
   "metadata": {
    "deletable": false,
    "editable": false,
    "nbgrader": {
     "cell_type": "markdown",
     "checksum": "218f365833684fa93e6eab8ff92ce76f",
     "grade": false,
     "grade_id": "cell-535b4c1eaf3c6ab1",
     "locked": true,
     "schema_version": 3,
     "solution": false,
     "task": false
    }
   },
   "source": [
    "---\n",
    "\n",
    "<h2><center> Completing your test </center></h2>\n",
    "\n",
    "- Once you have completed your test and answered all the questions:\n",
    "  \n",
    "- You can open the guide using the button located on the far right of your screen.\n",
    "\n",
    "- The button will look like this image:  \n",
    "  ![](additional_files/End_guide_button.png)\n",
    "\n",
    "- Clicking on this button will allow you to mark the test as complete using the button shown below:  \n",
    "  ![](additional_files/completion_button.png)\n",
    "\n",
    "- Please click on **Mark as Completed** to end and submit your test.\n",
    "\n",
    "- Thank you!\n"
   ]
  }
 ],
 "metadata": {
  "kernelspec": {
   "display_name": "Python 3 (ipykernel)",
   "language": "python",
   "name": "python3"
  },
  "language_info": {
   "codemirror_mode": {
    "name": "ipython",
    "version": 3
   },
   "file_extension": ".py",
   "mimetype": "text/x-python",
   "name": "python",
   "nbconvert_exporter": "python",
   "pygments_lexer": "ipython3",
   "version": "3.11.2"
  }
 },
 "nbformat": 4,
 "nbformat_minor": 5
}
